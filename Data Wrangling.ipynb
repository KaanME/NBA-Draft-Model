{
 "cells": [
  {
   "cell_type": "code",
   "execution_count": 3,
   "metadata": {},
   "outputs": [],
   "source": [
    "#Import packages\n",
    "import pandas as pd\n",
    "import datetime as dt\n",
    "import numpy as np\n",
    "import matplotlib.pyplot as plt\n",
    "from scipy import stats\n",
    "import seaborn as sns\n",
    "import matplotlib.style as style\n",
    "pd.set_option('display.max_columns', 50)\n",
    "%matplotlib inline\n",
    "style.use('fivethirtyeight')\n"
   ]
  },
  {
   "cell_type": "code",
   "execution_count": 4,
   "metadata": {},
   "outputs": [],
   "source": [
    "import numpy as np\n",
    "import pandas as pd\n",
    "import os\n",
    "import re"
   ]
  },
  {
   "cell_type": "code",
   "execution_count": 5,
   "metadata": {},
   "outputs": [
    {
     "name": "stdout",
     "output_type": "stream",
     "text": [
      "b'2009-2018 Final Play-by-Play Based Stats.csv' pbp\n"
     ]
    },
    {
     "name": "stderr",
     "output_type": "stream",
     "text": [
      "C:\\Users\\kerel\\AppData\\Local\\Continuum\\anaconda3\\lib\\site-packages\\IPython\\core\\interactiveshell.py:2785: DtypeWarning: Columns (4,6,7,8,9,10,11,12,13,14,15,16,17,18,19,20,21,22,23,24,25,26,27,28,29,30,31,32,33,34,35,36,37,38,39,40,41,42,43,44,45,46,47,48,49,50,51,52,53,54,55,56,57,58,59,60,61,62,63,64,65,66,67,68,69,70,71,72,73,74,75,76,77,78,79,80,81,82,83,84,85,86,87,88,89,90,91,92,93,94,95,96,97,98,99,100,101,102,103,104,105,106,107,108,109,110,111,112,113,114,115,116,117,118,119,120,121,122,123,124,125,126,127,128,129,130,131,132,133,134,135,136,137,138,139,140,141,142,143,144,145,146,147,148,149,150,151,152,153,154,155,156,157,158,159,160,161,162,163,164,165,166,167,168,169,170,171,172,173,174,175,176,177,178,179,180,181,182,183,184,185,186,187,188,189,190,191,192,193,194,195,196,197,198,199,200,201,202,203,204,205,206,207,208,209,210,211,212,213,214,215,216,217,218,219,220,221,222,223,224,225,226,227,228,229,230,231,232,233,234,235,236,237,238,239,240,241,242,243,244,245,246,247,248,249,250,251,252,253) have mixed types. Specify dtype option on import or set low_memory=False.\n",
      "  interactivity=interactivity, compiler=compiler, result=result)\n"
     ]
    },
    {
     "name": "stdout",
     "output_type": "stream",
     "text": [
      "b'247Sports.csv' sports247\n",
      "b'Additional Play-by-Play Stats.csv' pbp_extra\n",
      "b'DLeagueRealGM.csv' gl\n",
      "b'GameLogUpload.csv' logs\n",
      "b'HeavyDataNetRatingsFinal.csv' netRtg\n"
     ]
    },
    {
     "name": "stderr",
     "output_type": "stream",
     "text": [
      "C:\\Users\\kerel\\AppData\\Local\\Continuum\\anaconda3\\lib\\site-packages\\IPython\\core\\interactiveshell.py:2785: DtypeWarning: Columns (0,4,6,7,8,9,10,11,12,13,14,15,16,21,22,23,24,25,26,27,28,29,30,31,32,33,34,35,36,37,38,39,40,41,42,43,44,45,46,47,48,49,50,51,52,53,54,55,56,57,58,59,60,61,62,63,64,65,66,67,68,69,70,71,72,73,74,75,76,77,78,79,80,81,82,83,84) have mixed types. Specify dtype option on import or set low_memory=False.\n",
      "  interactivity=interactivity, compiler=compiler, result=result)\n"
     ]
    },
    {
     "name": "stdout",
     "output_type": "stream",
     "text": [
      "b'InternationalRealGM.csv' intl\n",
      "b'JHoy Current Prospect Measurements.csv' jhoy_measures\n",
      "b'Luck Adjusted Net Ratings.csv' luck_netRtg\n",
      "b'Measurements.csv' measures\n",
      "b'NBARealGM.csv' nba\n",
      "b'NCAARealGM.csv' ncaa\n",
      "b'PlayerInfo.csv' plyr_info\n",
      "b'RealGMBPM.csv' rgm_bpm\n"
     ]
    },
    {
     "name": "stderr",
     "output_type": "stream",
     "text": [
      "C:\\Users\\kerel\\AppData\\Local\\Continuum\\anaconda3\\lib\\site-packages\\IPython\\core\\interactiveshell.py:2785: DtypeWarning: Columns (4,5,8,9,10,11,12,13,14,15,16,17,18,19,20,21,22,23,24,25,26,27,28,29,30,31,32,33,34,35,36,37,39,40,41,42,43,44) have mixed types. Specify dtype option on import or set low_memory=False.\n",
      "  interactivity=interactivity, compiler=compiler, result=result)\n"
     ]
    },
    {
     "name": "stdout",
     "output_type": "stream",
     "text": [
      "b'RSCI.csv' rsci\n",
      "b'SportsRefBPM.csv' spref_bpm\n",
      "b'SummerLeagueRealGM.csv' sl\n"
     ]
    }
   ],
   "source": [
    "\n",
    "directory = os.fsencode('draft_toolkit')\n",
    "csv_names = ['pbp','sports247','pbp_extra','gl','logs','netRtg','intl','jhoy_measures',\n",
    "        'luck_netRtg','measures','nba','ncaa','plyr_info','rgm_bpm','rsci','spref_bpm','sl']\n",
    "\n",
    "csv_dict = {}\n",
    "for file, name in zip(os.listdir(directory),csv_names):\n",
    "    print(file,name)\n",
    "    filename = os.fsdecode(file)\n",
    "    csv_dict[name] = pd.read_csv('draft_toolkit/' + filename)\n"
   ]
  },
  {
   "cell_type": "code",
   "execution_count": 6,
   "metadata": {},
   "outputs": [],
   "source": [
    "    \n",
    "logs = csv_dict['logs']\n",
    "plyr_info = csv_dict['plyr_info']\n",
    "measures = csv_dict['measures']\n",
    "intl = csv_dict['intl']\n",
    "ncaa = csv_dict['ncaa']\n",
    "sl = csv_dict['sl']\n",
    "gl = csv_dict['gl']\n"
   ]
  },
  {
   "cell_type": "code",
   "execution_count": 7,
   "metadata": {},
   "outputs": [
    {
     "name": "stdout",
     "output_type": "stream",
     "text": [
      "realgm_summary_page\n",
      "highest_level_reached\n",
      "season\n",
      "school\n",
      "league\n",
      "conference\n",
      "grade\n"
     ]
    },
    {
     "name": "stderr",
     "output_type": "stream",
     "text": [
      "C:\\Users\\kerel\\AppData\\Local\\Continuum\\anaconda3\\lib\\site-packages\\ipykernel_launcher.py:18: SettingWithCopyWarning: \n",
      "A value is trying to be set on a copy of a slice from a DataFrame.\n",
      "Try using .loc[row_indexer,col_indexer] = value instead\n",
      "\n",
      "See the caveats in the documentation: http://pandas.pydata.org/pandas-docs/stable/indexing.html#indexing-view-versus-copy\n"
     ]
    },
    {
     "name": "stdout",
     "output_type": "stream",
     "text": [
      "realgm_summary_page\n",
      "highest_lvl\n",
      "year\n",
      "teamid\n",
      "year.1\n",
      "abbr\n"
     ]
    },
    {
     "name": "stderr",
     "output_type": "stream",
     "text": [
      "C:\\Users\\kerel\\AppData\\Local\\Continuum\\anaconda3\\lib\\site-packages\\ipykernel_launcher.py:9: SettingWithCopyWarning: \n",
      "A value is trying to be set on a copy of a slice from a DataFrame.\n",
      "Try using .loc[row_indexer,col_indexer] = value instead\n",
      "\n",
      "See the caveats in the documentation: http://pandas.pydata.org/pandas-docs/stable/indexing.html#indexing-view-versus-copy\n",
      "  if __name__ == '__main__':\n"
     ]
    },
    {
     "name": "stdout",
     "output_type": "stream",
     "text": [
      "realgm_summary_page\n",
      "highest_level_reached\n",
      "season\n",
      "school\n",
      "league\n",
      "conference\n",
      "grade\n"
     ]
    },
    {
     "name": "stderr",
     "output_type": "stream",
     "text": [
      "C:\\Users\\kerel\\AppData\\Local\\Continuum\\anaconda3\\lib\\site-packages\\ipykernel_launcher.py:29: SettingWithCopyWarning: \n",
      "A value is trying to be set on a copy of a slice from a DataFrame.\n",
      "Try using .loc[row_indexer,col_indexer] = value instead\n",
      "\n",
      "See the caveats in the documentation: http://pandas.pydata.org/pandas-docs/stable/indexing.html#indexing-view-versus-copy\n"
     ]
    },
    {
     "name": "stdout",
     "output_type": "stream",
     "text": [
      "realgm_summary_page\n",
      "highest_level_reached\n",
      "season\n",
      "league\n",
      "abbr\n",
      "location\n",
      "realgm_summary_page\n",
      "highest_lvl\n",
      "season\n",
      "reg_playoff\n",
      "team\n",
      "abbr\n"
     ]
    }
   ],
   "source": [
    "def ff_score(efg_pct, tov_pct, oreb_pct, ftr):\n",
    "    ff = .4*efg_pct + .25*tov_pct + .20*oreb_pct + .15* ftr\n",
    "    return ff\n",
    "\n",
    "\n",
    "\n",
    "def remove_null_rows(data):\n",
    "    for i in data:\n",
    "        data[i] = [np.nan if x == '-' else x for x in data[i]]\n",
    "    return data\n",
    "    \n",
    "remove_null_rows(ncaa)\n",
    "ncaa = ncaa.dropna(thresh = 15)\n",
    "ncaa.isnull().sum()\n",
    "def to_num(data):\n",
    "    for i in data:\n",
    "        try:\n",
    "            data[i] = pd.to_numeric(data[i])\n",
    "        except:\n",
    "            print(i)\n",
    "    return data\n",
    "\n",
    "to_num(ncaa)\n",
    "\n",
    "data_list = [intl, ncaa, sl, gl]\n",
    "for d in data_list:\n",
    "    remove_null_rows(d)\n",
    "    to_num(d)\n",
    "    d['ff'] = [ff_score(efg_pct, tov_pct, oreb_pct, ftr) for efg_pct, tov_pct, oreb_pct, ftr in zip(d.efg_pct, d.tov_pct, d.oreb_pct, d.ft_fga)]\n"
   ]
  },
  {
   "cell_type": "code",
   "execution_count": 8,
   "metadata": {},
   "outputs": [],
   "source": [
    "\n",
    "plyr_logs = pd.read_csv('player_logs_corrected.csv', index_col=0)\n",
    "\n",
    "\n",
    "ncaa.columns\n",
    "\n",
    "plyr_logs.columns\n",
    "\n",
    "avg_cols = ['mp','fgm', 'fga', 'fg_pct', 'fg3m', 'fg3a', 'fg3_pct', 'ftm', 'fta',\n",
    "       'ft_pct', 'oreb', 'dreb', 'reb', 'ast', 'stl', 'blk', 'pf', 'tov', 'pts',]\n",
    "\n",
    "tot_cols = ['mp_tot', 'fgm_tot', 'fga_tot', 'fg3m_tot', 'fg3a_tot',\n",
    "       'ftm_tot', 'fta_tot', 'oreb_tot', 'dreb_tot', 'reb_tot', 'ast_tot',\n",
    "       'stl_tot', 'blk_tot', 'pf_tot', 'tov_tot', 'pts_tot']\n",
    "\n",
    "adv_cols = ['ts_pct', 'efg_pct', 'oreb_pct', 'dreb_pct', 'reb_pct', 'ast_pct', 'tov_pct',\n",
    "            'stl_pct', 'blk_pct', 'usg_pct']\n",
    "\n",
    "nba = pd.DataFrame()\n",
    " \n",
    "\n",
    "plyr_avgs = plyr_logs.groupby(['player_name','season']).mean().reset_index()\n",
    "plyr_tot = plyr_logs.groupby(['player_name','season']).sum().reset_index()\n",
    "\n",
    "nba['name'] = plyr_avgs.player_name\n",
    "nba['season'] = plyr_avgs.season\n",
    "nba['gp'] = plyr_logs.groupby(['player_name','season']).game_count.max().reset_index().game_count\n",
    "for col in avg_cols:\n",
    "    nba[col] = plyr_avgs[col]\n",
    "\n",
    "for col in tot_cols:\n",
    "    nba[col] = plyr_tot[col[:-4]]\n",
    "    \n",
    "for col in adv_cols:\n",
    "    nba[col] = plyr_avgs[col]\n",
    "    \n",
    "def dblcount(pts,reb,ast,stl,blk):\n",
    "    #counts the number of core stats that are greater than 10\n",
    "    dbls = sum(x>=10 for x in [pts,ast,reb,stl,blk])\n",
    "    \n",
    "    #if double double, ad 1.5pts\n",
    "    if dbls == 2:\n",
    "        return 1\n",
    "    #if triple double or more, 4.5pts\n",
    "    elif dbls >= 3:\n",
    "        return 2\n",
    "    else:\n",
    "        return 0\n",
    "\n",
    "dblcnt = np.array([dblcount(p,a,r,s,b) for p,a,r,s,b in zip(plyr_logs.pts, plyr_logs.ast, plyr_logs.reb, plyr_logs.stl, plyr_logs.blk)])\n",
    "plyr_logs['dbl_dbl'] = [1 if i>0 else 0 for i in dblcnt]\n",
    "plyr_logs['tpl_dbl'] = [1 if i==2 else 0 for i in dblcnt]\n",
    "plyr_logs['pts40'] = [1 if i >= 40 else 0 for i in plyr_logs.pts]\n",
    "plyr_logs['pts20'] = [1 if i >= 20 else 0 for i in plyr_logs.pts]\n",
    "plyr_logs['ast20'] = [1 if i >= 20 else 0 for i in plyr_logs.pts]\n",
    "\n",
    "nba['dbl_dbl'] = plyr_logs.groupby(['player_name','season']).sum().reset_index().dbl_dbl\n",
    "nba['tpl_dbl'] = plyr_logs.groupby(['player_name','season']).sum().reset_index().tpl_dbl\n",
    "nba['pts40'] = plyr_logs.groupby(['player_name','season']).sum().reset_index().pts40\n",
    "nba['pts20'] = plyr_logs.groupby(['player_name','season']).sum().reset_index().pts20\n",
    "nba['ast20'] = plyr_logs.groupby(['player_name','season']).sum().reset_index().ast20\n",
    "nba['ast_to'] = nba.ast_tot / nba.tov_tot\n",
    "nba['stl_to'] = nba.stl_tot / nba.tov_tot\n",
    "nba['ft_fga'] = nba.fta_tot / nba.fga_tot\n",
    "nba['ff'] = [ff_score(efg_pct, tov_pct, oreb_pct, ftr) for efg_pct, tov_pct, oreb_pct, ftr in zip(nba.efg_pct, nba.tov_pct, nba.oreb_pct, nba.ft_fga)]\n",
    "nba['season_count'] = nba.groupby(['name']).cumcount()+1\n"
   ]
  },
  {
   "cell_type": "code",
   "execution_count": 9,
   "metadata": {},
   "outputs": [
    {
     "name": "stdout",
     "output_type": "stream",
     "text": [
      "49\n"
     ]
    }
   ],
   "source": [
    "\n",
    "ncaa_to_nba =  plyr_info.loc[(plyr_info.highest_level =='NBA')] \n",
    "#sorted list of all unique players in each dataset\n",
    "nba_pl = sorted([x for x in nba.name.unique()])\n",
    "ncaa_pl = sorted([x for x in ncaa_to_nba.name.unique()])\n",
    "\n",
    "#create a 2 column dataframe from the unique players\n",
    "mismatch = pd.DataFrame([[p for p in nba_pl if p not in ncaa_pl],[p for p in ncaa_pl if p not in nba_pl]]).T\n",
    "#name the columns\n",
    "mismatch.columns = ['nba','ncaa']\n",
    "\n",
    "\n",
    "#Print the number of NBA players that arent matched with college players\n",
    "print(len([x for x in mismatch.ncaa if x != None]))\n",
    "\n",
    "\n",
    "#strips all punctuation from a name\n",
    "def alpha(name):\n",
    "    return (\"\".join(re.findall(\"[a-zA-Z]+\", name)))\n",
    "\n",
    "#list of nba players with only alphanumeric characters\n",
    "alphanba = [alpha(x) for x in nba_pl]\n",
    "\n",
    "#given a name, return name in the nba player list if all alpha numeric characters match in order\n",
    "def matchalpha(name):\n",
    "    #uses stipped nba list, the list of unique names, an the alpha function\n",
    "    global alphanba, nba_pl, alpha\n",
    "    \n",
    "    #if stripped version of name is in nba list, return the formatting from the nba list\n",
    "    if alpha(name) in alphanba:\n",
    "        return nba_pl[alphanba.index(alpha(name))]   \n",
    "    \n",
    "    #if no match just return the name as is\n",
    "    return name\n",
    "\n",
    "#strip suffixes from the nba names and put them into a list\n",
    "nosuffixnba = [x.strip(' II') for x in nba_pl]\n",
    "nosuffixnba = [x.strip(' III') for x in nosuffixnba]\n",
    "nosuffixnba = [x.strip(' Jr.') for x in nosuffixnba]\n",
    "\n",
    "#function that returns NBA formatted player name if all but the suffix match\n",
    "def matchnosuffix(name):\n",
    "    #uses a list of nba names stripped of their suffixes\n",
    "    global nosuffixnba\n",
    "    nosuffix = name.strip(' II')\n",
    "    nosuffix = nosuffix.strip(' III')\n",
    "    nosuffix = nosuffix.strip(' Jr.')\n",
    "    if nosuffix in nosuffixnba:\n",
    "        return nba_pl[nosuffixnba.index(nosuffix)]\n",
    "    return name\n",
    "\n",
    "\n"
   ]
  },
  {
   "cell_type": "code",
   "execution_count": 10,
   "metadata": {},
   "outputs": [
    {
     "name": "stdout",
     "output_type": "stream",
     "text": [
      "# unmatched NBA names 28\n"
     ]
    }
   ],
   "source": [
    "    #use match alpha function to replace some of the mismatching names\n",
    "ncaa_pl = [matchalpha(name) for name in ncaa_pl]\n",
    "\n",
    "#see differences in the player lists after replacing\n",
    "mismatch = pd.DataFrame([[p for p in nba_pl if p not in ncaa_pl],[p for p in ncaa_pl if p not in nba_pl]]).T\n",
    "mismatch.columns = ['nba','ncaa']\n",
    "print('# unmatched NBA names', len([x for x in mismatch.ncaa if x != None]))\n"
   ]
  },
  {
   "cell_type": "code",
   "execution_count": null,
   "metadata": {},
   "outputs": [],
   "source": [
    "ncaa_pl = [matchnosuffix(name) for name in ncaa_pl]\n",
    "\n",
    "mismatch = pd.DataFrame([[p for p in nba_pl if p not in ncaa_pl],[p for p in ncaa_pl if p not in nba_pl]]).T\n",
    "mismatch.columns = ['nba','ncaa']\n",
    "print('# unmatched NBA names', len([x for x in mismatch.ncaa if x != None]))"
   ]
  },
  {
   "cell_type": "code",
   "execution_count": 11,
   "metadata": {},
   "outputs": [
    {
     "name": "stdout",
     "output_type": "stream",
     "text": [
      "# unmatched NBA names 14\n"
     ]
    }
   ],
   "source": [
    "new_names = {'Babby Araujo':'Rafael Araujo','Domas Sabonis':'Domantas Sabonis','Jake Wiley':'Jacob Wiley',\n",
    "             'James McAdoo':'James Michael McAdoo','Joshia Gray':'Josh Gray','Matt Dellavedova':'Matthew Dellavedova','Mike Sweetney':'Michael Sweetney',\n",
    "             'Naz Long':'Naz Mitrou-Long','Ogugua Anunoby':'OG Anunoby', 'Pat Ewing':'Patrick Ewing','Squeaky Johnson':'Carldell Johnson',\n",
    "             'Vince Hunter':'Vincent Hunter','Walt Lemon, Jr.':'Walter Lemon Jr.','Wesley Iwundu':'Wes Iwundu'}\n",
    "ncaa_pl = [new_names[name] if name in new_names else name for name in ncaa_pl]\n",
    "mismatch = pd.DataFrame([[p for p in nba_pl if p not in ncaa_pl],[p for p in ncaa_pl if p not in nba_pl]]).T\n",
    "mismatch.columns = ['nba','ncaa']\n",
    "print('# unmatched NBA names', len([x for x in mismatch.ncaa if x != None]))\n"
   ]
  },
  {
   "cell_type": "code",
   "execution_count": 14,
   "metadata": {},
   "outputs": [],
   "source": [
    "plyr_info.name = [matchalpha(name) for name in plyr_info.name]\n",
    "plyr_info.name = [matchnosuffix(name) for name in plyr_info.name]\n",
    "plyr_info.name = [new_names[name] if name in new_names else name for name in plyr_info.name]\n",
    "ncaa_to_nba_info =  plyr_info.loc[(plyr_info.highest_level =='NBA')]    \n"
   ]
  },
  {
   "cell_type": "markdown",
   "metadata": {},
   "source": []
  },
  {
   "cell_type": "code",
   "execution_count": 17,
   "metadata": {},
   "outputs": [],
   "source": [
    "mismatched = []\n",
    "matched = []\n",
    "for p in ncaa_to_nba.name.unique():\n",
    "    if p not in list(plyr_info.name):\n",
    "        mismatched.append(p)\n",
    "    else:\n",
    "        matched.append(p)\n",
    "     \n",
    "nba_matched = nba.loc[nba.name.isin(matched)]\n",
    "ncaa_to_nba_info = ncaa_to_nba.loc[ncaa_to_nba.name.isin(matched)]\n",
    "\n",
    "#ncaa_to_nba.to_csv('ncaa_to_nba_info.csv')\n",
    "#nba_matched.to_csv('nba_matched.csv') \n"
   ]
  },
  {
   "cell_type": "code",
   "execution_count": 19,
   "metadata": {},
   "outputs": [],
   "source": [
    "ncaa_stats_info = ncaa.merge(plyr_info, left_on = 'realgm_summary_page', right_on = 'realgm_link')\n",
    "nba_stats_info = nba_matched.merge(ncaa_to_nba_info, how = 'inner', on = 'name')\n",
    "\n",
    "nba_stats_info.isnull().sum()\n",
    "ncaa_to_nba_stats_info = ncaa_stats_info.loc[ncaa_stats_info.name.isin(matched)]\n",
    "\n",
    "nba_stats_info.to_csv('nba_stats_info.csv')\n",
    "ncaa_to_nba_stats_info.to_csv('ncaa_to_nba_stats_info.csv')\n"
   ]
  },
  {
   "cell_type": "code",
   "execution_count": null,
   "metadata": {},
   "outputs": [],
   "source": []
  },
  {
   "cell_type": "code",
   "execution_count": null,
   "metadata": {},
   "outputs": [],
   "source": []
  }
 ],
 "metadata": {
  "kernelspec": {
   "display_name": "Python 3",
   "language": "python",
   "name": "python3"
  },
  "language_info": {
   "codemirror_mode": {
    "name": "ipython",
    "version": 3
   },
   "file_extension": ".py",
   "mimetype": "text/x-python",
   "name": "python",
   "nbconvert_exporter": "python",
   "pygments_lexer": "ipython3",
   "version": "3.6.5"
  }
 },
 "nbformat": 4,
 "nbformat_minor": 2
}
